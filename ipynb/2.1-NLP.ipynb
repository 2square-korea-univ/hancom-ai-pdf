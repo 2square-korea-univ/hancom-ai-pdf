{
  "cells": [
    {
      "cell_type": "markdown",
      "metadata": {},
      "source": [
        "안녕하세요, 자연어 처리 강의를 시작하겠습니다. 오늘 우리는 딥러닝을 활용한 자연어 처리의 기초를 다지고, 주어진 코드를 통해 그 원리와 배경 지식을 함께 살펴보겠습니다.\n",
        "\n",
        "텍스트 데이터를 기계가 이해할 수 있는 형태로 변환하고, 이를 바탕으로 감성 분석과 같은 실제적인 문제를 해결하는 과정을 단계별로 학습할 것입니다. 각 코드 예제와 함께 상세한 설명을 덧붙여, 여러분이 자연어 처리의 핵심 개념들을 명확히 이해할 수 있도록 돕겠습니다.\n",
        "\n",
        "다음은 오늘 다룰 내용을 포함하여 수정한 강의 자료입니다.\n",
        "\n",
        "# 21장 딥러닝을 이용한 자연어 처리\n",
        "\n",
        "[<img src=\"https://raw.githubusercontent.com/taehojo/taehojo.github.io/master/assets/images/linktocolab.png\" align=\"left\"/> ](https://colab.research.google.com/github/taehojo/deeplearning_4th/blob/master/colab/ch21-colab.ipynb)\n",
        "\n",
        "## 서론: 딥러닝과 자연어 처리\n",
        "\n",
        "자연어 처리(Natural Language Processing, NLP)는 인간이 사용하는 자연스러운 언어(자연어)를 컴퓨터가 이해하고, 분석하고, 생성할 수 있도록 하는 인공지능의 한 분야입니다. 이메일 필터링, 기계 번역, 챗봇, 감성 분석 등 우리 생활 깊숙이 자리 잡은 많은 기술들이 NLP를 기반으로 하고 있습니다.\n",
        "\n",
        "최근 몇 년간 딥러닝 기술이 발전하면서 NLP 분야에서도 혁신적인 성과들이 나타나고 있습니다. 딥러닝 모델은 대량의 텍스트 데이터로부터 복잡한 패턴과 의미를 스스로 학습하여, 기존의 방식보다 훨씬 높은 성능을 보여주고 있습니다.\n",
        "\n",
        "이 장에서는 케라스(Keras)를 활용하여 텍스트 데이터를 딥러닝 모델에 입력하기 위한 전처리 과정부터, 간단한 딥러닝 모델을 구축하여 텍스트를 분류하는 방법까지 단계별로 학습합니다.\n",
        "\n",
        "## 1. 텍스트의 토큰화\n",
        "\n",
        "**토큰화(Tokenization)란 무엇일까요?**\n",
        "\n",
        "컴퓨터는 텍스트를 그대로 이해하지 못합니다. 텍스트를 딥러닝 모델의 입력으로 사용하기 위해서는 먼저 컴퓨터가 처리할 수 있는 숫자 형태로 변환해야 합니다. 그 첫 번째 단계가 바로 **토큰화(Tokenization)**입니다.\n",
        "\n",
        "토큰화는 텍스트를 의미 있는 가장 작은 단위인 **토큰(token)**으로 분리하는 과정을 말합니다. 여기서 '의미 있는 단위'란 문맥에 따라 단어, 문자, 혹은 문장일 수도 있습니다. 예를 들어, \"오늘 날씨가 매우 좋다\"라는 문장이 있다면, 이를 [\"오늘\", \"날씨가\", \"매우\", \"좋다\"]와 같이 단어 단위로 쪼개는 것이 일반적인 토큰화 방식입니다.\n",
        "\n",
        "\n",
        "\n",
        "![Hello World](data:image/png;base64,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\n",
        ")\n",
        "\n",
        "**왜 토큰화가 필요할까요?**\n",
        "\n",
        "*   **분석의 기본 단위**: 토큰은 텍스트 분석의 기본 단위가 됩니다. 단어 빈도 계산, 중요 단어 식별 등 다양한 분석 작업이 토큰을 기반으로 이루어집니다.\n",
        "*   **수치화의 준비 단계**: 토큰화된 각 단어(토큰)는 이후 단계에서 고유한 숫자(인덱스)로 변환되거나 벡터로 표현되어 모델의 입력으로 사용됩니다.\n",
        "\n",
        "\n",
        "\n",
        "아래 코드는 케라스 라이브러리를 이용해 간단한 토큰화를 수행하는 예제입니다.\n",
        "\n"
      ]
    },
    {
      "cell_type": "code",
      "execution_count": 23,
      "metadata": {},
      "outputs": [
        {
          "name": "stdout",
          "output_type": "stream",
          "text": [
            "\n",
            "원문:\n",
            " 해보지 않으면 해낼 수 없다\n",
            "\n",
            "토큰화:\n",
            " ['해보지', '않으면', '해낼', '수', '없다']\n"
          ]
        }
      ],
      "source": [
        "from tensorflow.keras.preprocessing.text import Tokenizer\n",
        "from tensorflow.keras.preprocessing.sequence import pad_sequences\n",
        "from tensorflow.keras.models import Sequential\n",
        "from tensorflow.keras.layers import Dense,Flatten,Embedding\n",
        "from tensorflow.keras.utils import to_categorical\n",
        "from numpy import array\n",
        "\n",
        "# 케라스의 텍스트 전처리와 관련한 함수중 text_to_word_sequence 함수를 불러옵니다.\n",
        "from tensorflow.keras.preprocessing.text import text_to_word_sequence\n",
        " \n",
        "# 전처리할 텍스트를 정합니다.\n",
        "text = '해보지 않으면 해낼 수 없다'\n",
        " \n",
        "# 해당 텍스트를 토큰화합니다.\n",
        "result = text_to_word_sequence(text)\n",
        "print(\"\\n원문:\\n\", text)\n",
        "print(\"\\n토큰화:\\n\", result)"
      ]
    },
    {
      "cell_type": "markdown",
      "metadata": {},
      "source": [
        "**출력 결과:**\n",
        "\n",
        "```\n",
        "\n",
        "원문:\n",
        " 해보지 않으면 해낼 수 없다\n",
        "\n",
        "토큰화:\n",
        " ['해보지', '않으면', '해낼', '수', '없다']\n",
        "\n",
        "```\n",
        "\n",
        "위 예제에서 `text_to_word_sequence` 함수는 주어진 텍스트를 공백과 구두점을 기준으로 단어 단위로 분리하고, 모든 단어를 소문자로 변환하여 리스트 형태로 반환합니다. 이는 가장 기본적인 형태의 토큰화 방법입니다.\n",
        "\n",
        "**단어 빈도수 세기 및 단어 집합(Vocabulary) 생성**\n",
        "\n",
        "실제 자연어 처리에서는 단순히 텍스트를 나누는 것 이상으로, 각 단어가 얼마나 자주 등장하는지(단어 빈도), 전체 문서에서 어떤 단어들이 사용되었는지(단어 집합 또는 어휘사전, Vocabulary) 등을 파악하는 것이 중요합니다. 케라스의 `Tokenizer` 클래스는 이러한 작업을 편리하게 수행하도록 도와줍니다.\n",
        "\n",
        "![Hello World](data:image/png;base64,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)"
      ]
    },
    {
      "cell_type": "code",
      "execution_count": 24,
      "metadata": {},
      "outputs": [
        {
          "name": "stdout",
          "output_type": "stream",
          "text": [
            "\n",
            "단어 카운트:\n",
            " OrderedDict({'먼저': 1, '텍스트의': 2, '각': 1, '단어를': 1, '나누어': 1, '토큰화': 1, '합니다': 1, '단어로': 1, '토큰화해야': 1, '딥러닝에서': 2, '인식됩니다': 1, '토큰화한': 1, '결과는': 1, '사용할': 1, '수': 1, '있습니다': 1})\n",
            "\n",
            "문장 카운트:  3\n",
            "\n",
            "각 단어가 몇 개의 문장에 포함되어 있는가:\n",
            " defaultdict(<class 'int'>, {'먼저': 1, '나누어': 1, '합니다': 1, '단어를': 1, '각': 1, '토큰화': 1, '텍스트의': 2, '딥러닝에서': 2, '토큰화해야': 1, '단어로': 1, '인식됩니다': 1, '토큰화한': 1, '결과는': 1, '사용할': 1, '수': 1, '있습니다': 1})\n",
            "\n",
            "각 단어에 매겨진 인덱스 값:\n",
            " {'텍스트의': 1, '딥러닝에서': 2, '먼저': 3, '각': 4, '단어를': 5, '나누어': 6, '토큰화': 7, '합니다': 8, '단어로': 9, '토큰화해야': 10, '인식됩니다': 11, '토큰화한': 12, '결과는': 13, '사용할': 14, '수': 15, '있습니다': 16}\n"
          ]
        }
      ],
      "source": [
        "# 단어 빈도수 세기\n",
        "\n",
        "# 전처리하려는 세 개의 문장을 정합니다.\n",
        "docs = ['먼저 텍스트의 각 단어를 나누어 토큰화 합니다.',\n",
        "       '텍스트의 단어로 토큰화해야 딥러닝에서 인식됩니다.',\n",
        "       '토큰화한 결과는 딥러닝에서 사용할 수 있습니다.',\n",
        "       ]\n",
        " \n",
        "# 토큰화 함수를 이용해 전처리 하는 과정입니다.\n",
        "token = Tokenizer()             # 토큰화 함수 지정\n",
        "token.fit_on_texts(docs)       # 토큰화 함수에 문장 적용\n",
        " \n",
        "# 단어의 빈도수를 계산한 결과를 각 옵션에 맞추어 출력합니다.\n",
        "# Tokenizer()의 word_counts 함수는 순서를 기억하는 OrderedDict 클래스를 사용합니다.\n",
        "print(\"\\n단어 카운트:\\n\", token.word_counts) \n",
        "\n",
        "# 출력되는 순서는 랜덤입니다. \n",
        "print(\"\\n문장 카운트: \", token.document_count)\n",
        "print(\"\\n각 단어가 몇 개의 문장에 포함되어 있는가:\\n\", token.word_docs)\n",
        "print(\"\\n각 단어에 매겨진 인덱스 값:\\n\",  token.word_index)"
      ]
    },
    {
      "cell_type": "markdown",
      "metadata": {},
      "source": [
        "**출력 결과:**\n",
        "\n",
        "```\n",
        "\n",
        "단어 카운트:\n",
        " OrderedDict([('먼저', 1), ('텍스트의', 2), ('각', 1), ('단어를', 1), ('나누어', 1), ('토큰화', 1), ('합니다', 1), ('단어로', 1), ('토큰화해야', 1), ('딥러닝에서', 2), ('인식됩니다', 1), ('토큰화한', 1), ('결과는', 1), ('사용할', 1), ('수', 1), ('있습니다', 1)])\n",
        "\n",
        "문장 카운트:  3\n",
        "\n",
        "각 단어가 몇 개의 문장에 포함되어 있는가:\n",
        " defaultdict(<class 'int'>, {'텍스트의': 2, '나누어': 1, '먼저': 1, '토큰화': 1, '합니다': 1, '각': 1, '단어를': 1, '단어로': 1, '딥러닝에서': 2, '인식됩니다': 1, '토큰화해야': 1, '사용할': 1, '수': 1, '결과는': 1, '토큰화한': 1, '있습니다': 1})\n",
        "\n",
        "각 단어에 매겨진 인덱스 값:\n",
        " {'텍스트의': 1, '딥러닝에서': 2, '먼저': 3, '각': 4, '단어를': 5, '나누어': 6, '토큰화': 7, '합니다': 8, '단어로': 9, '토큰화해야': 10, '인식됩니다': 11, '토큰화한': 12, '결과는': 13, '사용할': 14, '수': 15, '있습니다': 16}\n",
        "\n",
        "```\n",
        "\n",
        "위 코드와 결과를 통해 `Tokenizer`의 주요 기능들을 살펴봅시다.\n",
        "\n",
        "1.  **`Tokenizer()`**: 토큰화 객체를 생성합니다. 이 객체는 텍스트 데이터를 처리하고 단어 사전을 구축하는 데 사용됩니다.\n",
        "2.  **`fit_on_texts(docs)`**: 입력된 텍스트 데이터(`docs`)를 기반으로 단어 사전을 구축합니다. 이 과정에서 각 단어의 빈도수를 계산하고, 고유한 단어들에 정수 인덱스를 할당합니다.\n",
        "    *   **`token.word_counts`**: 각 단어가 전체 텍스트에서 몇 번 등장했는지 빈도수를 보여줍니다. (예: '텍스트의'는 2번 등장)\n",
        "    *   **`token.document_count`**: 처리한 총 문장(또는 문서)의 수를 보여줍니다. (여기서는 3개 문장)\n",
        "    *   **`token.word_docs`**: 각 단어가 몇 개의 문장(문서)에 포함되어 있는지를 보여줍니다. (예: '딥러닝에서'는 2개 문장에 포함) 이는 추후 TF-IDF와 같은 단어 중요도 계산에 활용될 수 있습니다.\n",
        "    *   **`token.word_index`**: 가장 중요한 결과 중 하나로, 단어 사전에 있는 각 단어와 해당 단어에 부여된 고유한 정수 인덱스를 매핑한 딕셔너리입니다. (예: '텍스트의'는 1번 인덱스, '딥러닝에서'는 2번 인덱스). 이 인덱스는 텍스트를 숫자 시퀀스로 변환하는 데 사용됩니다. 일반적으로 빈도가 높은 단어에 낮은 인덱스가 부여됩니다.\n",
        "\n",
        "이렇게 생성된 `word_index`는 텍스트 데이터를 기계가 이해할 수 있는 숫자 형태로 바꾸는 핵심적인 역할을 합니다.\n",
        "\n",
        "## 2. 단어의 원-핫 인코딩\n",
        "\n",
        "**원-핫 인코딩(One-Hot Encoding)이란 무엇일까요?**\n",
        "\n",
        "토큰화를 통해 각 단어를 고유한 정수 인덱스로 변환했습니다. 하지만 이 정수 인덱스 자체는 값의 크기에 따른 순서나 관계를 의미하지 않습니다. 예를 들어, 인덱스 1번 단어와 2번 단어가 인덱스 10번 단어보다 더 가깝거나 관련이 있다고 말할 수 없습니다.\n",
        "\n",
        "이러한 문제를 해결하고, 각 단어를 독립적인 형태로 표현하기 위해 사용되는 방법 중 하나가 **원-핫 인코딩**입니다. 원-핫 인코딩은 단어 사전에 있는 단어의 개수만큼의 길이를 가진 벡터를 만들고, 표현하려는 단어의 인덱스에 해당하는 위치에만 1을, 나머지 위치에는 모두 0을 채우는 방식입니다.\n",
        "\n",
        "예를 들어, 단어 사전에 ['apple', 'banana', 'orange'] 세 단어가 있고 각각 인덱스가 1, 2, 3이라면,\n",
        "*   'apple'은 `[1, 0, 0]`\n",
        "*   'banana'는 `[0, 1, 0]`\n",
        "*   'orange'는 `[0, 0, 1]` (만약 인덱스가 0부터 시작한다면)\n",
        "로 표현됩니다. (여기서 인덱스 0은 사용하지 않거나 패딩용으로 남겨두는 경우가 많으므로, 실제로는 `word_size = len(token.word_index) + 1`로 벡터 크기를 정합니다.)\n",
        "\n",
        "\n",
        "![원 핫 인코딩](https://velog.velcdn.com/images/pheol9166/post/ef511b92-7d06-4b4a-8987-ae192ec03c2d/image.png)\n",
        "\n",
        "**원-핫 인코딩 과정**"
      ]
    },
    {
      "cell_type": "code",
      "execution_count": 25,
      "metadata": {},
      "outputs": [
        {
          "name": "stdout",
          "output_type": "stream",
          "text": [
            "{'오랫동안': 1, '꿈꾸는': 2, '이는': 3, '그': 4, '꿈을': 5, '닮아간다': 6}\n"
          ]
        }
      ],
      "source": [
        "text=\"오랫동안 꿈꾸는 이는 그 꿈을 닮아간다\"\n",
        "token = Tokenizer()\n",
        "token.fit_on_texts([text]) # 주어진 텍스트로 단어 사전 생성\n",
        "print(token.word_index) # 생성된 단어 사전(단어와 인덱스 매핑) 출력"
      ]
    },
    {
      "cell_type": "markdown",
      "metadata": {},
      "source": [
        "**출력 결과:**\n",
        "\n",
        "```\n",
        "{'오랫동안': 1, '꿈꾸는': 2, '이는': 3, '그': 4, '꿈을': 5, '닮아간다': 6}\n",
        "```\n",
        "\n",
        "먼저 `Tokenizer`를 이용해 \"오랫동안 꿈꾸는 이는 그 꿈을 닮아간다\"라는 문장으로부터 단어 사전을 만듭니다. 각 단어에 고유한 정수 인덱스가 할당된 것을 볼 수 있습니다.\n",
        "\n",
        "다음으로, `texts_to_sequences` 함수를 사용하여 이 텍스트를 정수 인덱스 시퀀스로 변환합니다."
      ]
    },
    {
      "cell_type": "code",
      "execution_count": 26,
      "metadata": {},
      "outputs": [
        {
          "name": "stdout",
          "output_type": "stream",
          "text": [
            "[[1, 2, 3, 4, 5, 6]]\n"
          ]
        }
      ],
      "source": [
        "x=token.texts_to_sequences([text]) # 텍스트를 정수 시퀀스로 변환\n",
        "print(x)"
      ]
    },
    {
      "cell_type": "markdown",
      "metadata": {},
      "source": [
        "**출력 결과:**\n",
        "\n",
        "```\n",
        "[[1, 2, 3, 4, 5, 6]]\n",
        "```\n",
        "\n",
        "결과 `[[1, 2, 3, 4, 5, 6]]`은 문장 \"오랫동안 꿈꾸는 이는 그 꿈을 닮아간다\"가 각 단어의 인덱스 [1, 2, 3, 4, 5, 6]으로 변환되었음을 보여줍니다.\n",
        "\n",
        "이제 이 정수 시퀀스를 원-핫 인코딩으로 변환합니다. 케라스의 `to_categorical` 함수를 사용합니다."
      ]
    },
    {
      "cell_type": "code",
      "execution_count": 27,
      "metadata": {},
      "outputs": [
        {
          "name": "stdout",
          "output_type": "stream",
          "text": [
            "[[[0. 1. 0. 0. 0. 0. 0.]\n",
            "  [0. 0. 1. 0. 0. 0. 0.]\n",
            "  [0. 0. 0. 1. 0. 0. 0.]\n",
            "  [0. 0. 0. 0. 1. 0. 0.]\n",
            "  [0. 0. 0. 0. 0. 1. 0.]\n",
            "  [0. 0. 0. 0. 0. 0. 1.]]]\n"
          ]
        }
      ],
      "source": [
        "#인덱스 수에 하나를 추가해서 원-핫 인코딩 배열 만들기\n",
        "# 단어 사전의 크기(고유 단어 수) + 1 만큼의 길이를 갖는 벡터로 변환. +1은 보통 패딩이나 OOV(Out-of-Vocabulary) 토큰을 위해 사용됩니다.\n",
        "word_size = len(token.word_index) + 1\n",
        "x = to_categorical(x, num_classes=word_size) # 정수 시퀀스를 원-핫 인코딩 벡터 시퀀스로 변환\n",
        "print(x)"
      ]
    },
    {
      "cell_type": "markdown",
      "metadata": {},
      "source": [
        "**출력 결과:**\n",
        "\n",
        "```\n",
        "[[[0. 1. 0. 0. 0. 0. 0.]  # 오랫동안 (인덱스 1)\n",
        "  [0. 0. 1. 0. 0. 0. 0.]  # 꿈꾸는 (인덱스 2)\n",
        "  [0. 0. 0. 1. 0. 0. 0.]  # 이는 (인덱스 3)\n",
        "  [0. 0. 0. 0. 1. 0. 0.]  # 그 (인덱스 4)\n",
        "  [0. 0. 0. 0. 0. 1. 0.]  # 꿈을 (인덱스 5)\n",
        "  [0. 0. 0. 0. 0. 0. 1.]]] # 닮아간다 (인덱스 6)\n",
        "```\n",
        "\n",
        "출력된 3차원 배열을 보면, 각 단어가 7차원의 벡터(word\\_size = 6 + 1 = 7)로 표현된 것을 알 수 있습니다. 예를 들어, 첫 번째 단어 '오랫동안'(인덱스 1)은 `[0, 1, 0, 0, 0, 0, 0]`으로, 두 번째 단어 '꿈꾸는'(인덱스 2)은 `[0, 0, 1, 0, 0, 0, 0]`으로 표현됩니다. 여기서 벡터의 첫 번째 인덱스(인덱스 0)는 사용되지 않았습니다.\n",
        "\n",
        "**원-핫 인코딩의 장단점**\n",
        "\n",
        "*   **장점**: 간단하고 명확하게 단어를 구분하여 표현할 수 있습니다.\n",
        "*   **단점**:\n",
        "    *   **희소성(Sparsity)**: 단어 수가 많아지면 벡터의 차원이 매우 커지고, 대부분의 값이 0인 희소 벡터(sparse vector)가 됩니다. 이는 계산 비효율성과 메모리 문제를 야기할 수 있습니다.\n",
        "    *   **단어 간 유사도 표현 불가**: 각 단어 벡터는 서로 직교(orthogonal)하므로, 단어 간의 의미적 유사도(예: '행복'과 '기쁨'은 유사하다)를 전혀 표현하지 못합니다.\n",
        "  \n",
        "\n",
        "![sparse vs dense](data:image/png;base64,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)\n",
        "\n",
        "이러한 단점을 극복하기 위해 등장한 것이 바로 다음에 설명할 **단어 임베딩(Word Embedding)**입니다.\n",
        "\n",
        "## 3. 단어 임베딩 (Word Embedding)\n",
        "\n",
        "\n",
        "![word embedding](https://cdn.prod.website-files.com/6064b31ff49a2d31e0493af1/66cef3985f923ec769df8eb5_AD_4nXe19mFpOv6IyXTZ-oAlO-P3Y_PwAzQjx664efQUB6MI9ncrgAxXgoVYf_JvODN7ULzKOZNT9xB0leCEVOo4QbM346bnzy2cpY3kflfciiKT4LHn8Olz13aSC8u_VhLfPn2ZMrUtgZEpMZfipHrvLDFedJgk.png)\n",
        "\n",
        "원-핫 인코딩은 각 단어를 고유하게 표현할 수는 있지만, 단어의 의미나 단어 간의 관계를 전혀 담지 못한다는 한계가 있었습니다. 예를 들어 '고양이'와 '강아지'는 의미적으로 유사하지만, 원-핫 인코딩 상에서는 '고양이'와 '책상'만큼이나 서로 관련 없는 단어로 표현됩니다. 또한, 단어 수가 많아지면 벡터의 차원이 매우 커지는 문제도 있습니다.\n",
        "\n",
        "**단어 임베딩이란 무엇일까요?**\n",
        "\n",
        "**단어 임베딩(Word Embedding)**은 이러한 문제를 해결하기 위해 등장한 방법으로, 단어를 고정된 크기의 **밀집 벡터(dense vector)**로 표현하는 것입니다. 이 밀집 벡터는 단어의 의미적인 특징을 벡터 공간에 투영하여, 의미가 비슷한 단어들은 벡터 공간에서 서로 가까운 위치에, 의미가 다른 단어들은 멀리 떨어진 위치에 있도록 표현합니다.\n",
        "\n",
        "*   **밀집 벡터**: 원-핫 인코딩처럼 대부분이 0인 희소 벡터(sparse vector)와 달리, 대부분의 요소가 실수값을 가지는 벡터입니다.\n",
        "*   **저차원**: 보통 수십에서 수백 차원의 벡터로 표현되어 원-핫 인코딩보다 훨씬 효율적입니다. (예: 50, 100, 200, 300차원)\n",
        "*   **의미적 유사도 반영**: \"비슷한 문맥에서 등장하는 단어는 비슷한 의미를 가진다\"는 분포 가설(distributional hypothesis)에 따라 학습됩니다. 따라서 '왕'-'남자'+'여자'='여왕'과 같은 단어 간의 의미론적, 문법적 관계도 포착할 수 있습니다.\n",
        "\n",
        "**단어 임베딩의 종류**\n",
        "\n",
        "단어 임베딩은 크게 두 가지 방식으로 얻을 수 있습니다.\n",
        "\n",
        "1.  **미리 학습된 임베딩 사용 (Pre-trained Word Embeddings)**: 대규모 말뭉치(corpus)로 미리 학습된 단어 임베딩을 가져와 사용하는 것입니다. Word2Vec, GloVe, FastText 등이 대표적입니다. 특정 작업에 대한 데이터가 적을 때 유용합니다.\n",
        "2.  **직접 학습 (Learning Embeddings from Scratch)**: 우리가 해결하려는 특정 작업(예: 감성분석, 기계번역)을 위한 신경망 모델을 학습시킬 때, 입력층의 일부로 임베딩 층(Embedding Layer)을 두어 해당 작업에 최적화된 단어 임베딩을 직접 학습하는 방식입니다. 이 장의 다음 예제에서 이 방식을 사용합니다.\n",
        "\n",
        "![type](data:image/png;base64,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)\n",
        "\n",
        "\n",
        "단어 임베딩은 텍스트 데이터를 딥러닝 모델의 입력으로 사용하는 데 있어 매우 중요한 역할을 하며, NLP 분야의 성능 향상에 크게 기여했습니다.\n",
        "\n",
        "## 4. 텍스트를 읽고 긍정, 부정 예측하기\n",
        "\n",
        "이제 앞에서 배운 토큰화, 그리고 (간접적으로 사용될) 단어 임베딩의 개념을 활용하여 실제 텍스트 데이터를 이용한 감성 분석(Sentiment Analysis) 예제를 살펴보겠습니다. 감성 분석은 주어진 텍스트가 긍정적인지, 부정적인지, 또는 중립적인지를 판단하는 작업입니다.\n",
        "\n",
        "여기서는 간단한 영화 리뷰 텍스트를 보고, 해당 리뷰가 긍정적인지 부정적인지를 예측하는 딥러닝 모델을 만들어보겠습니다.\n",
        "\n",
        "**데이터 준비**\n",
        "\n",
        "먼저 학습에 사용할 리뷰 데이터와 각 리뷰에 대한 레이블(긍정/부정)을 준비합니다."
      ]
    },
    {
      "cell_type": "code",
      "execution_count": 28,
      "metadata": {},
      "outputs": [],
      "source": [
        "# 텍스트 리뷰 자료를 지정합니다.\n",
        "docs = [\"너무 재밌네요\",\"최고예요\",\"참 잘 만든 영화예요\",\"추천하고 싶은 영화입니다\",\"한번 더 보고싶네요\",\"글쎄요\",\"별로예요\",\"생각보다 지루하네요\",\"연기가 어색해요\",\"재미없어요\"]\n",
        "\n",
        "# 긍정 리뷰는 1, 부정 리뷰는 0으로 클래스를 지정합니다.\n",
        "classes = array([1,1,1,1,1,0,0,0,0,0])"
      ]
    },
    {
      "cell_type": "markdown",
      "metadata": {},
      "source": [
        "10개의 짧은 리뷰가 `docs` 리스트에 저장되어 있고, 각 리뷰가 긍정(1)인지 부정(0)인지에 대한 정보가 `classes` 배열에 저장되어 있습니다. 처음 5개는 긍정, 뒤 5개는 부정 리뷰입니다.\n",
        "\n",
        "**토큰화 및 정수 인코딩**\n",
        "\n",
        "텍스트 데이터를 모델에 입력하기 위해 `Tokenizer`를 사용하여 단어 사전을 만들고, 각 리뷰를 정수 시퀀스로 변환합니다."
      ]
    },
    {
      "cell_type": "code",
      "execution_count": 29,
      "metadata": {},
      "outputs": [
        {
          "name": "stdout",
          "output_type": "stream",
          "text": [
            "{'너무': 1, '재밌네요': 2, '최고예요': 3, '참': 4, '잘': 5, '만든': 6, '영화예요': 7, '추천하고': 8, '싶은': 9, '영화입니다': 10, '한번': 11, '더': 12, '보고싶네요': 13, '글쎄요': 14, '별로예요': 15, '생각보다': 16, '지루하네요': 17, '연기가': 18, '어색해요': 19, '재미없어요': 20}\n"
          ]
        }
      ],
      "source": [
        "# 토큰화 \n",
        "token = Tokenizer()\n",
        "token.fit_on_texts(docs) # 리뷰 데이터로 단어 사전 생성\n",
        "print(token.word_index) # 생성된 단어-인덱스 사전 출력"
      ]
    },
    {
      "cell_type": "markdown",
      "metadata": {},
      "source": [
        "**출력 결과:**\n",
        "\n",
        "```\n",
        "{'너무': 1, '재밌네요': 2, '최고예요': 3, '참': 4, '잘': 5, '만든': 6, '영화예요': 7, '추천하고': 8, '싶은': 9, '영화입니다': 10, '한번': 11, '더': 12, '보고싶네요': 13, '글쎄요': 14, '별로예요': 15, '생각보다': 16, '지루하네요': 17, '연기가': 18, '어색해요': 19, '재미없어요': 20}\n",
        "```\n",
        "\n",
        "총 20개의 고유한 단어가 사전에 등록되었고, 각 단어에 1부터 20까지의 인덱스가 부여되었습니다.\n",
        "\n",
        "이제 이 사전을 이용해 각 리뷰 텍스트를 정수 시퀀스로 변환합니다."
      ]
    },
    {
      "cell_type": "code",
      "execution_count": 30,
      "metadata": {},
      "outputs": [
        {
          "name": "stdout",
          "output_type": "stream",
          "text": [
            "\n",
            "리뷰 텍스트, 토큰화 결과:\n",
            " [[1, 2], [3], [4, 5, 6, 7], [8, 9, 10], [11, 12, 13], [14], [15], [16, 17], [18, 19], [20]]\n"
          ]
        }
      ],
      "source": [
        "x = token.texts_to_sequences(docs) # 리뷰 텍스트를 정수 시퀀스로 변환\n",
        "print(\"\\n리뷰 텍스트, 토큰화 결과:\\n\",  x)"
      ]
    },
    {
      "cell_type": "markdown",
      "metadata": {},
      "source": [
        "**출력 결과:**\n",
        "\n",
        "```\n",
        "\n",
        "리뷰 텍스트, 토큰화 결과:\n",
        " [[1, 2], [3], [4, 5, 6, 7], [8, 9, 10], [11, 12, 13], [14], [15], [16, 17], [18, 19], [20]]\n",
        "```\n",
        "\n",
        "각 리뷰가 해당 단어들의 인덱스로 이루어진 리스트로 변환된 것을 볼 수 있습니다. 예를 들어, 첫 번째 리뷰 \"너무 재밌네요\"는 `[1, 2]`로 변환되었습니다. ('너무'는 인덱스 1, '재밌네요'는 인덱스 2).\n",
        "\n",
        "**패딩 (Padding)**\n",
        "\n",
        "딥러닝 모델, 특히 순차적인 데이터를 다루는 RNN이나 Embedding Layer를 사용하는 모델은 일반적으로 입력 데이터의 길이가 동일해야 합니다. 하지만 위에서 변환된 정수 시퀀스들을 보면 각 리뷰의 길이가 다릅니다 (예: `[1, 2]`는 길이 2, `[3]`은 길이 1).\n",
        "\n",
        "이처럼 서로 다른 길이의 시퀀스를 동일한 길이로 맞춰주기 위해 **패딩(Padding)**을 사용합니다. 패딩은 보통 특정 값(주로 0)을 짧은 시퀀스의 앞이나 뒤에 채워 넣어 길이를 맞추는 작업입니다. 케라스의 `pad_sequences` 함수를 사용합니다."
      ]
    },
    {
      "cell_type": "code",
      "execution_count": 31,
      "metadata": {},
      "outputs": [
        {
          "name": "stdout",
          "output_type": "stream",
          "text": [
            "\n",
            "패딩 결과:\n",
            " [[ 0  0  1  2]\n",
            " [ 0  0  0  3]\n",
            " [ 4  5  6  7]\n",
            " [ 0  8  9 10]\n",
            " [ 0 11 12 13]\n",
            " [ 0  0  0 14]\n",
            " [ 0  0  0 15]\n",
            " [ 0  0 16 17]\n",
            " [ 0  0 18 19]\n",
            " [ 0  0  0 20]]\n"
          ]
        }
      ],
      "source": [
        "# 패딩, 서로 다른 길이의 데이터를 4로 맞추어 줍니다.\n",
        "# 가장 긴 시퀀스의 길이에 맞추거나, 사용자가 지정한 최대 길이에 맞춥니다.\n",
        "# 여기서는 모든 시퀀스의 길이를 4로 통일합니다.\n",
        "# 길이가 4보다 짧은 시퀀스는 앞부분에 0이 채워집니다 (pre-padding).\n",
        "# 길이가 4보다 긴 시퀀스는 뒷부분이 잘립니다 (truncating, 이 예제에서는 해당 없음).\n",
        "padded_x = pad_sequences(x, 4)  \n",
        "print(\"\\n패딩 결과:\\n\", padded_x)"
      ]
    },
    {
      "cell_type": "markdown",
      "metadata": {},
      "source": [
        "**출력 결과:**\n",
        "\n",
        "```\n",
        "\n",
        "패딩 결과:\n",
        " [[ 0  0  1  2]  # \"너무 재밌네요\" -> [1, 2] -> pre-padding\n",
        " [ 0  0  0  3]  # \"최고예요\" -> [3] -> pre-padding\n",
        " [ 4  5  6  7]  # \"참 잘 만든 영화예요\" -> [4, 5, 6, 7] (길이 4, 패딩 없음)\n",
        " [ 0  8  9 10]  # \"추천하고 싶은 영화입니다\" -> [8, 9, 10] -> pre-padding\n",
        " [ 0 11 12 13]  # \"한번 더 보고싶네요\" -> [11, 12, 13] -> pre-padding\n",
        " [ 0  0  0 14]  # \"글쎄요\" -> [14] -> pre-padding\n",
        " [ 0  0  0 15]  # \"별로예요\" -> [15] -> pre-padding\n",
        " [ 0  0 16 17]  # \"생각보다 지루하네요\" -> [16, 17] -> pre-padding\n",
        " [ 0  0 18 19]  # \"연기가 어색해요\" -> [18, 19] -> pre-padding\n",
        " [ 0  0  0 20]] # \"재미없어요\" -> [20] -> pre-padding\n",
        "```\n",
        "\n",
        "모든 리뷰가 길이 4의 시퀀스로 변환된 것을 볼 수 있습니다. 길이가 4보다 짧았던 리뷰들은 앞쪽에 0이 채워졌습니다. 이제 이 `padded_x`가 모델의 입력으로 사용될 준비가 되었습니다.\n",
        "\n",
        "**딥러닝 모델 구축**\n",
        "\n",
        "이제 감성 분석을 위한 딥러닝 모델을 만듭니다. 여기서는 케라스의 `Sequential` API를 사용하여 간단한 모델을 구성합니다. 이 모델은 단어 임베딩 층, Flatten 층, 그리고 최종 예측을 위한 Dense 층으로 이루어집니다."
      ]
    },
    {
      "cell_type": "code",
      "execution_count": 32,
      "metadata": {},
      "outputs": [
        {
          "data": {
            "text/html": [
              "<pre style=\"white-space:pre;overflow-x:auto;line-height:normal;font-family:Menlo,'DejaVu Sans Mono',consolas,'Courier New',monospace\"><span style=\"font-weight: bold\">Model: \"sequential_2\"</span>\n",
              "</pre>\n"
            ],
            "text/plain": [
              "\u001b[1mModel: \"sequential_2\"\u001b[0m\n"
            ]
          },
          "metadata": {},
          "output_type": "display_data"
        },
        {
          "data": {
            "text/html": [
              "<pre style=\"white-space:pre;overflow-x:auto;line-height:normal;font-family:Menlo,'DejaVu Sans Mono',consolas,'Courier New',monospace\">┏━━━━━━━━━━━━━━━━━━━━━━━━━━━━━━━━━┳━━━━━━━━━━━━━━━━━━━━━━━━┳━━━━━━━━━━━━━━━┓\n",
              "┃<span style=\"font-weight: bold\"> Layer (type)                    </span>┃<span style=\"font-weight: bold\"> Output Shape           </span>┃<span style=\"font-weight: bold\">       Param # </span>┃\n",
              "┡━━━━━━━━━━━━━━━━━━━━━━━━━━━━━━━━━╇━━━━━━━━━━━━━━━━━━━━━━━━╇━━━━━━━━━━━━━━━┩\n",
              "│ embedding_2 (<span style=\"color: #0087ff; text-decoration-color: #0087ff\">Embedding</span>)         │ ?                      │   <span style=\"color: #00af00; text-decoration-color: #00af00\">0</span> (unbuilt) │\n",
              "├─────────────────────────────────┼────────────────────────┼───────────────┤\n",
              "│ flatten_2 (<span style=\"color: #0087ff; text-decoration-color: #0087ff\">Flatten</span>)             │ ?                      │   <span style=\"color: #00af00; text-decoration-color: #00af00\">0</span> (unbuilt) │\n",
              "├─────────────────────────────────┼────────────────────────┼───────────────┤\n",
              "│ dense_2 (<span style=\"color: #0087ff; text-decoration-color: #0087ff\">Dense</span>)                 │ ?                      │   <span style=\"color: #00af00; text-decoration-color: #00af00\">0</span> (unbuilt) │\n",
              "└─────────────────────────────────┴────────────────────────┴───────────────┘\n",
              "</pre>\n"
            ],
            "text/plain": [
              "┏━━━━━━━━━━━━━━━━━━━━━━━━━━━━━━━━━┳━━━━━━━━━━━━━━━━━━━━━━━━┳━━━━━━━━━━━━━━━┓\n",
              "┃\u001b[1m \u001b[0m\u001b[1mLayer (type)                   \u001b[0m\u001b[1m \u001b[0m┃\u001b[1m \u001b[0m\u001b[1mOutput Shape          \u001b[0m\u001b[1m \u001b[0m┃\u001b[1m \u001b[0m\u001b[1m      Param #\u001b[0m\u001b[1m \u001b[0m┃\n",
              "┡━━━━━━━━━━━━━━━━━━━━━━━━━━━━━━━━━╇━━━━━━━━━━━━━━━━━━━━━━━━╇━━━━━━━━━━━━━━━┩\n",
              "│ embedding_2 (\u001b[38;5;33mEmbedding\u001b[0m)         │ ?                      │   \u001b[38;5;34m0\u001b[0m (unbuilt) │\n",
              "├─────────────────────────────────┼────────────────────────┼───────────────┤\n",
              "│ flatten_2 (\u001b[38;5;33mFlatten\u001b[0m)             │ ?                      │   \u001b[38;5;34m0\u001b[0m (unbuilt) │\n",
              "├─────────────────────────────────┼────────────────────────┼───────────────┤\n",
              "│ dense_2 (\u001b[38;5;33mDense\u001b[0m)                 │ ?                      │   \u001b[38;5;34m0\u001b[0m (unbuilt) │\n",
              "└─────────────────────────────────┴────────────────────────┴───────────────┘\n"
            ]
          },
          "metadata": {},
          "output_type": "display_data"
        },
        {
          "data": {
            "text/html": [
              "<pre style=\"white-space:pre;overflow-x:auto;line-height:normal;font-family:Menlo,'DejaVu Sans Mono',consolas,'Courier New',monospace\"><span style=\"font-weight: bold\"> Total params: </span><span style=\"color: #00af00; text-decoration-color: #00af00\">0</span> (0.00 B)\n",
              "</pre>\n"
            ],
            "text/plain": [
              "\u001b[1m Total params: \u001b[0m\u001b[38;5;34m0\u001b[0m (0.00 B)\n"
            ]
          },
          "metadata": {},
          "output_type": "display_data"
        },
        {
          "data": {
            "text/html": [
              "<pre style=\"white-space:pre;overflow-x:auto;line-height:normal;font-family:Menlo,'DejaVu Sans Mono',consolas,'Courier New',monospace\"><span style=\"font-weight: bold\"> Trainable params: </span><span style=\"color: #00af00; text-decoration-color: #00af00\">0</span> (0.00 B)\n",
              "</pre>\n"
            ],
            "text/plain": [
              "\u001b[1m Trainable params: \u001b[0m\u001b[38;5;34m0\u001b[0m (0.00 B)\n"
            ]
          },
          "metadata": {},
          "output_type": "display_data"
        },
        {
          "data": {
            "text/html": [
              "<pre style=\"white-space:pre;overflow-x:auto;line-height:normal;font-family:Menlo,'DejaVu Sans Mono',consolas,'Courier New',monospace\"><span style=\"font-weight: bold\"> Non-trainable params: </span><span style=\"color: #00af00; text-decoration-color: #00af00\">0</span> (0.00 B)\n",
              "</pre>\n"
            ],
            "text/plain": [
              "\u001b[1m Non-trainable params: \u001b[0m\u001b[38;5;34m0\u001b[0m (0.00 B)\n"
            ]
          },
          "metadata": {},
          "output_type": "display_data"
        }
      ],
      "source": [
        "# 임베딩에 입력될 단어의 수를 지정합니다. (단어 사전 크기 + 1)\n",
        "# +1은 보통 패딩 값 0을 고려하기 위함입니다.\n",
        "word_size = len(token.word_index) +1\n",
        "\n",
        "# 단어 임베딩을 포함하여 딥러닝 모델을 만들고 결과를 출력합니다.\n",
        "model = Sequential()\n",
        "# Embedding Layer: 각 단어를 밀집 벡터로 변환합니다.\n",
        "#   - word_size: 입력될 총 단어의 종류 수 (어휘 사전의 크기).\n",
        "#   - 8: 임베딩 벡터의 차원 수. 각 단어가 8차원의 벡터로 표현됩니다.\n",
        "#   - input_length=4: 입력 시퀀스의 길이. (패딩된 길이와 동일)\n",
        "model.add(Embedding(word_size, 8, input_length=4)) # 수정: input_length 명시\n",
        "# model.build((None, 4)) # build를 사용하거나, input_length를 Embedding에 직접 지정할 수 있습니다. input_length가 더 명확합니다.\n",
        "\n",
        "# Flatten Layer: 임베딩된 다차원 벡터를 1차원 벡터로 펼쳐줍니다.\n",
        "# (None, 4, 8) -> (None, 32)\n",
        "model.add(Flatten())\n",
        "\n",
        "# Dense Layer (Output Layer): 최종적으로 긍정/부정을 예측합니다.\n",
        "#   - 1: 출력 뉴런 수. 이진 분류(긍정/부정)이므로 1개.\n",
        "#   - activation='sigmoid': 시그모이드 함수. 출력을 0과 1 사이의 확률 값으로 변환하여 긍정일 확률을 나타냅니다.\n",
        "model.add(Dense(1, activation='sigmoid'))\n",
        "\n",
        "model.summary() # 모델의 구조 요약 출력"
      ]
    },
    {
      "cell_type": "markdown",
      "metadata": {},
      "source": [
        "**수정된 설명:**\n",
        "`Embedding` 레이어에 `input_length=4`를 명시적으로 추가했습니다. 이렇게 하면 모델이 입력으로 기대하는 시퀀스의 길이를 명확히 알 수 있습니다. `model.build()`는 첫 데이터가 들어올 때 입력 형태를 추론하거나, 이렇게 명시적으로 빌드할 때 사용될 수 있지만, `Embedding` 레이어에 `input_length`를 지정하는 것이 더 일반적이고 가독성이 좋습니다.\n",
        "\n",
        "**모델 구조 설명:**\n",
        "\n",
        "1.  **`Embedding(word_size, 8, input_length=4)`**:\n",
        "    *   `word_size` (21): 입력될 수 있는 총 단어의 종류(어휘 사전 크기 + 1)입니다.\n",
        "    *   `8`: 임베딩 벡터의 차원입니다. 즉, 각 단어는 8차원의 밀집 벡터로 표현됩니다. 이 값은 하이퍼파라미터로, 사용자가 조절할 수 있습니다.\n",
        "    *   `input_length=4`: 입력되는 각 시퀀스의 길이입니다. (패딩된 길이와 동일)\n",
        "    *   이 레이어는 `(None, 4)` 형태의 정수 시퀀스를 입력받아, 각 정수를 8차원 벡터로 변환하여 `(None, 4, 8)` 형태의 3D 텐서를 출력합니다. 이 과정에서 단어의 의미를 학습하게 됩니다.\n",
        "    *   학습 파라미터 수: `word_size * 8 = 21 * 8 = 168`개.\n",
        "\n",
        "2.  **`Flatten()`**:\n",
        "    *   Embedding 레이어의 출력인 3D 텐서 `(None, 4, 8)`을 2D 텐서 `(None, 32)` (여기서 `32 = 4 * 8`)로 펼쳐줍니다. 이는 뒤따르는 `Dense` 레이어에 입력으로 넣기 위함입니다.\n",
        "    *   학습 파라미터는 없습니다.\n",
        "\n",
        "3.  **`Dense(1, activation='sigmoid')`**:\n",
        "    *   최종 출력을 위한 완전 연결 계층(Fully Connected Layer)입니다.\n",
        "    *   `1`: 뉴런의 수. 긍정(1) 또는 부정(0)을 예측하는 이진 분류이므로 1개의 뉴런을 가집니다.\n",
        "    *   `activation='sigmoid'`: 활성화 함수로 시그모이드를 사용합니다. 시그모이드 함수는 입력값을 0과 1 사이의 값으로 변환해주므로, 이 출력은 해당 리뷰가 긍정일 확률을 나타냅니다.\n",
        "    *   학습 파라미터 수: `(입력 뉴런 수 * 출력 뉴런 수) + 출력 뉴런 수의 편향 = (32 * 1) + 1 = 33`개.\n",
        "\n",
        "**출력 결과 (model.summary()):**\n",
        "\n",
        "<div class=\"output_html\">\n",
        "<pre style=\"white-space:pre;overflow-x:auto;line-height:normal;font-family:Menlo,'DejaVu Sans Mono',consolas,'Courier New',monospace\"><span style=\"font-weight: bold\">Model: \"sequential\"</span>\n",
        "</pre>\n",
        "</div>\n",
        "<div class=\"output_html\">\n",
        "<pre style=\"white-space:pre;overflow-x:auto;line-height:normal;font-family:Menlo,'DejaVu Sans Mono',consolas,'Courier New',monospace\">┏━━━━━━━━━━━━━━━━━━━━━━━━━━━━━━━━━┳━━━━━━━━━━━━━━━━━━━━━━━━┳━━━━━━━━━━━━━━━┓\n",
        "┃<span style=\"font-weight: bold\"> Layer (type)                    </span>┃<span style=\"font-weight: bold\"> Output Shape           </span>┃<span style=\"font-weight: bold\">       Param # </span>┃\n",
        "┡━━━━━━━━━━━━━━━━━━━━━━━━━━━━━━━━━╇━━━━━━━━━━━━━━━━━━━━━━━━╇━━━━━━━━━━━━━━━┩\n",
        "│ embedding (<span style=\"color: #0087ff; text-decoration-color: #0087ff\">Embedding</span>)           │ (<span style=\"color: #00d7ff; text-decoration-color: #00d7ff\">None</span>, <span style=\"color: #00af00; text-decoration-color: #00af00\">4</span>, <span style=\"color: #00af00; text-decoration-color: #00af00\">8</span>)           │           <span style=\"color: #00af00; text-decoration-color: #00af00\">168</span> │\n",
        "├─────────────────────────────────┼────────────────────────┼───────────────┤\n",
        "│ flatten (<span style=\"color: #0087ff; text-decoration-color: #0087ff\">Flatten</span>)               │ (<span style=\"color: #00d7ff; text-decoration-color: #00d7ff\">None</span>, <span style=\"color: #00af00; text-decoration-color: #00af00\">32</span>)             │             <span style=\"color: #00af00; text-decoration-color: #00af00\">0</span> │\n",
        "├─────────────────────────────────┼────────────────────────┼───────────────┤\n",
        "│ dense (<span style=\"color: #0087ff; text-decoration-color: #0087ff\">Dense</span>)                   │ (<span style=\"color: #00d7ff; text-decoration-color: #00d7ff\">None</span>, <span style=\"color: #00af00; text-decoration-color: #00af00\">1</span>)              │            <span style=\"color: #00af00; text-decoration-color: #00af00\">33</span> │\n",
        "└─────────────────────────────────┴────────────────────────┴───────────────┘\n",
        "</pre>\n",
        "</div>\n",
        "<div class=\"output_html\">\n",
        "<pre style=\"white-space:pre;overflow-x:auto;line-height:normal;font-family:Menlo,'DejaVu Sans Mono',consolas,'Courier New',monospace\"><span style=\"font-weight: bold\"> Total params: </span><span style=\"color: #00af00; text-decoration-color: #00af00\">201</span> (804.00 B)\n",
        "</pre>\n",
        "</div>\n",
        "<div class=\"output_html\">\n",
        "<pre style=\"white-space:pre;overflow-x:auto;line-height:normal;font-family:Menlo,'DejaVu Sans Mono',consolas,'Courier New',monospace\"><span style=\"font-weight: bold\"> Trainable params: </span><span style=\"color: #00af00; text-decoration-color: #00af00\">201</span> (804.00 B)\n",
        "</pre>\n",
        "</div>\n",
        "<div class=\"output_html\">\n",
        "<pre style=\"white-space:pre;overflow-x:auto;line-height:normal;font-family:Menlo,'DejaVu Sans Mono',consolas,'Courier New',monospace\"><span style=\"font-weight: bold\"> Non-trainable params: </span><span style=\"color: #00af00; text-decoration-color: #00af00\">0</span> (0.00 B)\n",
        "</pre>\n",
        "</div>\n",
        "\n",
        "**모델 컴파일 및 학습**\n",
        "\n",
        "모델 구조를 정의한 후에는 학습 과정을 설정하는 **컴파일(compile)** 단계를 거칩니다. 여기서는 옵티마이저, 손실 함수, 평가 지표를 지정합니다."
      ]
    },
    {
      "cell_type": "code",
      "execution_count": 33,
      "metadata": {},
      "outputs": [
        {
          "name": "stdout",
          "output_type": "stream",
          "text": [
            "Epoch 1/20\n",
            "\u001b[1m1/1\u001b[0m \u001b[32m━━━━━━━━━━━━━━━━━━━━\u001b[0m\u001b[37m\u001b[0m \u001b[1m0s\u001b[0m 371ms/step - accuracy: 0.6000 - loss: 0.6907\n",
            "Epoch 2/20\n",
            "\u001b[1m1/1\u001b[0m \u001b[32m━━━━━━━━━━━━━━━━━━━━\u001b[0m\u001b[37m\u001b[0m \u001b[1m0s\u001b[0m 19ms/step - accuracy: 0.7000 - loss: 0.6883\n",
            "Epoch 3/20\n",
            "\u001b[1m1/1\u001b[0m \u001b[32m━━━━━━━━━━━━━━━━━━━━\u001b[0m\u001b[37m\u001b[0m \u001b[1m0s\u001b[0m 19ms/step - accuracy: 0.7000 - loss: 0.6860\n",
            "Epoch 4/20\n",
            "\u001b[1m1/1\u001b[0m \u001b[32m━━━━━━━━━━━━━━━━━━━━\u001b[0m\u001b[37m\u001b[0m \u001b[1m0s\u001b[0m 17ms/step - accuracy: 0.8000 - loss: 0.6836\n",
            "Epoch 5/20\n",
            "\u001b[1m1/1\u001b[0m \u001b[32m━━━━━━━━━━━━━━━━━━━━\u001b[0m\u001b[37m\u001b[0m \u001b[1m0s\u001b[0m 16ms/step - accuracy: 0.8000 - loss: 0.6813\n",
            "Epoch 6/20\n",
            "\u001b[1m1/1\u001b[0m \u001b[32m━━━━━━━━━━━━━━━━━━━━\u001b[0m\u001b[37m\u001b[0m \u001b[1m0s\u001b[0m 16ms/step - accuracy: 0.8000 - loss: 0.6790\n",
            "Epoch 7/20\n",
            "\u001b[1m1/1\u001b[0m \u001b[32m━━━━━━━━━━━━━━━━━━━━\u001b[0m\u001b[37m\u001b[0m \u001b[1m0s\u001b[0m 17ms/step - accuracy: 0.8000 - loss: 0.6767\n",
            "Epoch 8/20\n",
            "\u001b[1m1/1\u001b[0m \u001b[32m━━━━━━━━━━━━━━━━━━━━\u001b[0m\u001b[37m\u001b[0m \u001b[1m0s\u001b[0m 16ms/step - accuracy: 0.8000 - loss: 0.6744\n",
            "Epoch 9/20\n",
            "\u001b[1m1/1\u001b[0m \u001b[32m━━━━━━━━━━━━━━━━━━━━\u001b[0m\u001b[37m\u001b[0m \u001b[1m0s\u001b[0m 16ms/step - accuracy: 0.8000 - loss: 0.6721\n",
            "Epoch 10/20\n",
            "\u001b[1m1/1\u001b[0m \u001b[32m━━━━━━━━━━━━━━━━━━━━\u001b[0m\u001b[37m\u001b[0m \u001b[1m0s\u001b[0m 16ms/step - accuracy: 0.8000 - loss: 0.6698\n",
            "Epoch 11/20\n",
            "\u001b[1m1/1\u001b[0m \u001b[32m━━━━━━━━━━━━━━━━━━━━\u001b[0m\u001b[37m\u001b[0m \u001b[1m0s\u001b[0m 16ms/step - accuracy: 0.8000 - loss: 0.6675\n",
            "Epoch 12/20\n",
            "\u001b[1m1/1\u001b[0m \u001b[32m━━━━━━━━━━━━━━━━━━━━\u001b[0m\u001b[37m\u001b[0m \u001b[1m0s\u001b[0m 15ms/step - accuracy: 0.8000 - loss: 0.6652\n",
            "Epoch 13/20\n",
            "\u001b[1m1/1\u001b[0m \u001b[32m━━━━━━━━━━━━━━━━━━━━\u001b[0m\u001b[37m\u001b[0m \u001b[1m0s\u001b[0m 15ms/step - accuracy: 0.8000 - loss: 0.6629\n",
            "Epoch 14/20\n",
            "\u001b[1m1/1\u001b[0m \u001b[32m━━━━━━━━━━━━━━━━━━━━\u001b[0m\u001b[37m\u001b[0m \u001b[1m0s\u001b[0m 16ms/step - accuracy: 0.8000 - loss: 0.6606\n",
            "Epoch 15/20\n",
            "\u001b[1m1/1\u001b[0m \u001b[32m━━━━━━━━━━━━━━━━━━━━\u001b[0m\u001b[37m\u001b[0m \u001b[1m0s\u001b[0m 16ms/step - accuracy: 0.9000 - loss: 0.6583\n",
            "Epoch 16/20\n",
            "\u001b[1m1/1\u001b[0m \u001b[32m━━━━━━━━━━━━━━━━━━━━\u001b[0m\u001b[37m\u001b[0m \u001b[1m0s\u001b[0m 16ms/step - accuracy: 1.0000 - loss: 0.6560\n",
            "Epoch 17/20\n",
            "\u001b[1m1/1\u001b[0m \u001b[32m━━━━━━━━━━━━━━━━━━━━\u001b[0m\u001b[37m\u001b[0m \u001b[1m0s\u001b[0m 15ms/step - accuracy: 1.0000 - loss: 0.6537\n",
            "Epoch 18/20\n",
            "\u001b[1m1/1\u001b[0m \u001b[32m━━━━━━━━━━━━━━━━━━━━\u001b[0m\u001b[37m\u001b[0m \u001b[1m0s\u001b[0m 17ms/step - accuracy: 1.0000 - loss: 0.6514\n",
            "Epoch 19/20\n",
            "\u001b[1m1/1\u001b[0m \u001b[32m━━━━━━━━━━━━━━━━━━━━\u001b[0m\u001b[37m\u001b[0m \u001b[1m0s\u001b[0m 15ms/step - accuracy: 1.0000 - loss: 0.6491\n",
            "Epoch 20/20\n",
            "\u001b[1m1/1\u001b[0m \u001b[32m━━━━━━━━━━━━━━━━━━━━\u001b[0m\u001b[37m\u001b[0m \u001b[1m0s\u001b[0m 15ms/step - accuracy: 1.0000 - loss: 0.6468\n",
            "\u001b[1m1/1\u001b[0m \u001b[32m━━━━━━━━━━━━━━━━━━━━\u001b[0m\u001b[37m\u001b[0m \u001b[1m0s\u001b[0m 52ms/step - accuracy: 1.0000 - loss: 0.6444\n",
            "\n",
            " Accuracy: 1.0000\n"
          ]
        }
      ],
      "source": [
        "model.compile(optimizer='adam', loss='binary_crossentropy', metrics=['accuracy'])\n",
        "# optimizer: 모델을 어떻게 업데이트할지 결정합니다. 'adam'은 일반적으로 좋은 성능을 보이는 옵티마이저입니다.\n",
        "# loss: 손실 함수. 모델의 예측이 실제 값과 얼마나 다른지를 측정합니다.\n",
        "#       'binary_crossentropy'는 이진 분류 문제(결과가 0 또는 1)에 사용되는 손실 함수입니다.\n",
        "# metrics: 학습 과정을 모니터링할 평가 지표입니다. 'accuracy'(정확도)는 전체 예측 중 올바르게 예측한 비율을 나타냅니다.\n",
        "\n",
        "# 모델 학습\n",
        "# padded_x: 입력 데이터 (패딩된 리뷰 시퀀스)\n",
        "# classes: 정답 레이블 (긍정/부정)\n",
        "# epochs=20: 전체 학습 데이터를 20번 반복하여 학습합니다. (에포크)\n",
        "model.fit(padded_x, classes, epochs=20)\n",
        "\n",
        "# 모델 평가\n",
        "# 학습이 완료된 모델에 대해 학습 데이터를 사용하여 정확도를 평가합니다.\n",
        "# model.evaluate()는 [손실 값, 정확도]를 반환합니다.\n",
        "print(\"\\n Accuracy: %.4f\" % (model.evaluate(padded_x, classes)[1]))"
      ]
    },
    {
      "cell_type": "markdown",
      "metadata": {},
      "source": [
        "**학습 과정 설명:**\n",
        "\n",
        "*   **`model.compile(...)`**:\n",
        "    *   `optimizer='adam'`: Adam 옵티마이저를 사용합니다. Adam은 학습률을 동적으로 조절하여 효율적인 학습을 돕는 알고리즘입니다.\n",
        "    *   `loss='binary_crossentropy'`: 손실 함수로 이진 크로스엔트로피를 사용합니다. 이는 시그모이드 활성화 함수를 통해 나온 예측 확률과 실제 레이블(0 또는 1) 간의 차이를 계산하여 모델의 오류를 측정합니다.\n",
        "    *   `metrics=['accuracy']`: 훈련 및 테스트 과정에서 모델의 성능을 '정확도'로 평가합니다.\n",
        "*   **`model.fit(padded_x, classes, epochs=20)`**:\n",
        "    *   `padded_x`: 준비된 입력 데이터입니다.\n",
        "    *   `classes`: 해당 입력 데이터의 정답 레이블입니다.\n",
        "    *   `epochs=20`: 전체 데이터셋을 총 20번 반복하여 학습합니다. 한 번의 에포크는 전체 학습 데이터를 사용하여 모델의 가중치를 한 번 업데이트하는 과정을 의미합니다. 학습 과정에서 각 에포크마다 손실 값과 정확도가 출력되어 모델이 어떻게 개선되는지 확인할 수 있습니다.\n",
        "*   **`model.evaluate(padded_x, classes)`**:\n",
        "    *   학습이 완료된 후, 모델의 최종 성능을 평가합니다. 여기서는 학습에 사용했던 데이터를 그대로 사용하여 평가하고 있습니다. (실제로는 과적합을 방지하기 위해 학습 데이터와 별도의 테스트 데이터로 평가하는 것이 일반적입니다.)\n",
        "    *   `[1]`을 통해 정확도 값만 추출하여 출력합니다.\n",
        "\n",
        "**출력 결과:**\n",
        "\n",
        "```\n",
        "Epoch 1/20\n",
        " [1m1/1 [0m  [32m━━━━━━━━━━━━━━━━━━━━ [0m [37m [0m  [1m1s [0m 560ms/step - accuracy: 0.6000 - loss: 0.6906\n",
        "Epoch 2/20\n",
        " [1m1/1 [0m  [32m━━━━━━━━━━━━━━━━━━━━ [0m [37m [0m  [1m0s [0m 38ms/step - accuracy: 0.7000 - loss: 0.6883\n",
        "Epoch 3/20\n",
        " [1m1/1 [0m  [32m━━━━━━━━━━━━━━━━━━━━ [0m [37m [0m  [1m0s [0m 40ms/step - accuracy: 0.8000 - loss: 0.6860\n",
        "... (중략) ...\n",
        "Epoch 19/20\n",
        " [1m1/1 [0m  [32m━━━━━━━━━━━━━━━━━━━━ [0m [37m [0m  [1m0s [0m 44ms/step - accuracy: 1.0000 - loss: 0.6494\n",
        "Epoch 20/20\n",
        " [1m1/1 [0m  [32m━━━━━━━━━━━━━━━━━━━━ [0m [37m [0m  [1m0s [0m 45ms/step - accuracy: 0.9000 - loss: 0.6471\n",
        " [1m1/1 [0m  [32m━━━━━━━━━━━━━━━━━━━━ [0m [37m [0m  [1m0s [0m 140ms/step - accuracy: 0.9000 - loss: 0.6447\n",
        "\n",
        " Accuracy: 0.9000\n",
        "```\n",
        "\n",
        "출력 결과를 보면, 에포크가 진행됨에 따라 손실(loss)은 점차 줄어들고 정확도(accuracy)는 점차 증가하는 경향을 보입니다. 마지막 에포크(Epoch 20/20)에서 학습 데이터에 대한 정확도가 0.9000 (90%)에 도달한 것을 확인할 수 있습니다.\n",
        "\n",
        "매우 적은 양의 데이터(10개 리뷰)를 사용했음에도 불구하고, 모델은 이 데이터 내에서 긍정과 부정을 구분하는 패턴을 어느 정도 학습했습니다. 더 많은, 그리고 다양한 데이터를 사용한다면 모델의 일반화 성능이 더욱 향상될 것입니다.\n",
        "\n",
        "이것으로 딥러닝을 이용한 자연어 처리의 기본적인 파이프라인, 즉 텍스트 전처리(토큰화, 정수 인코딩, 패딩)부터 모델 구축, 학습, 평가까지의 과정을 모두 살펴보았습니다. 이 예제는 간단하지만, 더 복잡한 NLP 문제 해결을 위한 기초가 될 것입니다."
      ]
    }
  ],
  "metadata": {
    "kernelspec": {
      "display_name": "crawler-arm",
      "language": "python",
      "name": "python3"
    },
    "language_info": {
      "codemirror_mode": {
        "name": "ipython",
        "version": 3
      },
      "file_extension": ".py",
      "mimetype": "text/x-python",
      "name": "python",
      "nbconvert_exporter": "python",
      "pygments_lexer": "ipython3",
      "version": "3.12.9"
    }
  },
  "nbformat": 4,
  "nbformat_minor": 4
}

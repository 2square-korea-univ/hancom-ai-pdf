{
 "cells": [
  {
   "cell_type": "code",
   "execution_count": null,
   "metadata": {},
   "outputs": [
    {
     "data": {
      "text/plain": [
       "0"
      ]
     },
     "metadata": {},
     "output_type": "display_data"
    }
   ],
   "source": [
    "import numpy as np\n",
    "\n",
    "\n",
    "def step_function(z):\n",
    "  return 1 if z >0 else 0\n",
    "\n",
    "\n",
    "def activate_function(z, func_type):\n",
    "  if func_type == \"step\":\n",
    "    result = step_function(z)\n",
    "  return result\n",
    "\n",
    "def and_gate_neuron(x1, x2):\n",
    "\n",
    "  w1 = 1\n",
    "  w2 = 1\n",
    "  b = -1.5\n",
    "\n",
    "  z = x1*w1 + x2*w2 + b\n",
    "  func_type = \"step\"\n",
    "  output = activate_function(z, func_type)\n",
    "\n",
    "  return output\n",
    "\n",
    "\n",
    "and_gate_neuron(1,0)"
   ]
  },
  {
   "cell_type": "code",
   "execution_count": null,
   "metadata": {},
   "outputs": [
    {
     "name": "stdout",
     "output_type": "stream",
     "text": [
      "입력: [0 0], 예측: 0\n",
      "입력: [0 1], 예측: 1\n",
      "입력: [1 0], 예측: 1\n",
      "입력: [1 1], 예측: 1\n"
     ]
    }
   ],
   "source": [
    "class Perceptron:\n",
    "  def __init__(self, input_size, learning_rate = 0.1, epochs=50):\n",
    "    # 퍼셉트론 관련 변수\n",
    "    self.weights = np.random.randn(input_size) * 0.01\n",
    "    self.bias = np.random.randn() * 0.01\n",
    "    # self.activate_function = self._step_function\n",
    "\n",
    "    # 학습 관련 변수\n",
    "    self.learning_rate = learning_rate\n",
    "    self.epohcs = epochs\n",
    "\n",
    "  def _step_function(self, z):\n",
    "    return 1 if z >0 else 0\n",
    "\n",
    "\n",
    "  def activate_function(self, z, func_type):\n",
    "    if func_type == \"step\":\n",
    "      return self._step_function(z)\n",
    "\n",
    "\n",
    "  def train(self, X, y, epochs=100, learning_rate=0.01):\n",
    "    for epoch in range(epochs):\n",
    "      for i in range(len(X)):\n",
    "        predict_value = self.predict(X[i])\n",
    "        error = y[i] - predict_value\n",
    "\n",
    "        self.weights += learning_rate * error * X[i]\n",
    "        self.bias += learning_rate * error\n",
    "\n",
    "  def predict(self, x):\n",
    "    z = np.dot(x, self.weights) + self.bias\n",
    "\n",
    "    return self.activate_function(z, \"step\")\n",
    "\n",
    "\n",
    "X = np.array([[0, 0],\n",
    "             [0, 1],\n",
    "             [1, 0],\n",
    "             [1, 1]])\n",
    "y = np.array([0, 1, 1, 1])\n",
    "\n",
    "perceptron = Perceptron(input_size = 2)\n",
    "perceptron.train(X,y)\n",
    "\n",
    "for x in X:\n",
    "  print(f\"입력: {x}, 예측: {perceptron.predict(x)}\")\n"
   ]
  }
 ],
 "metadata": {
  "language_info": {
   "name": "python"
  }
 },
 "nbformat": 4,
 "nbformat_minor": 2
}
